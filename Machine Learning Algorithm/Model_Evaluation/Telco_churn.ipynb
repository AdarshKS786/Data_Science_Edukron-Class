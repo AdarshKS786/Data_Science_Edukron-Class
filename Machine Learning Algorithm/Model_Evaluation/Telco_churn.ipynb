{
 "cells": [
  {
   "cell_type": "code",
   "execution_count": 2,
   "id": "143e7e76",
   "metadata": {},
   "outputs": [],
   "source": [
    "import seaborn as sns\n",
    "import pandas as pd\n",
    "import matplotlib.pyplot as plt\n",
    "from sklearn.model_selection import train_test_split, GridSearchCV, StratifiedKFold\n",
    "from sklearn.tree import DecisionTreeClassifier\n",
    "from sklearn.ensemble import RandomForestClassifier\n",
    "from sklearn.metrics import (confusion_matrix, classification_report,\n",
    "                             accuracy_score, precision_score, recall_score, f1_score)\n",
    "import warnings\n",
    "warnings.filterwarnings(\"ignore\")"
   ]
  },
  {
   "cell_type": "markdown",
   "id": "741734d7",
   "metadata": {},
   "source": [
    "# Load dataset directly from GitHub"
   ]
  },
  {
   "cell_type": "code",
   "execution_count": 3,
   "id": "ae1518d4",
   "metadata": {},
   "outputs": [],
   "source": [
    "df = pd.read_csv(\"https://raw.githubusercontent.com/IBM/telco-customer-churn-on-icp4d/master/data/Telco-Customer-Churn.csv\")\n",
    "df.drop('customerID', axis=1, inplace=True)\n",
    "df['TotalCharges'] = pd.to_numeric(df['TotalCharges'], errors='coerce')\n",
    "df.dropna(inplace=True)"
   ]
  },
  {
   "cell_type": "code",
   "execution_count": 8,
   "id": "8b6469cd",
   "metadata": {},
   "outputs": [
    {
     "name": "stdout",
     "output_type": "stream",
     "text": [
      "<class 'pandas.core.frame.DataFrame'>\n",
      "Index: 7032 entries, 0 to 7042\n",
      "Data columns (total 20 columns):\n",
      " #   Column            Non-Null Count  Dtype  \n",
      "---  ------            --------------  -----  \n",
      " 0   gender            7032 non-null   object \n",
      " 1   SeniorCitizen     7032 non-null   int64  \n",
      " 2   Partner           7032 non-null   object \n",
      " 3   Dependents        7032 non-null   object \n",
      " 4   tenure            7032 non-null   int64  \n",
      " 5   PhoneService      7032 non-null   object \n",
      " 6   MultipleLines     7032 non-null   object \n",
      " 7   InternetService   7032 non-null   object \n",
      " 8   OnlineSecurity    7032 non-null   object \n",
      " 9   OnlineBackup      7032 non-null   object \n",
      " 10  DeviceProtection  7032 non-null   object \n",
      " 11  TechSupport       7032 non-null   object \n",
      " 12  StreamingTV       7032 non-null   object \n",
      " 13  StreamingMovies   7032 non-null   object \n",
      " 14  Contract          7032 non-null   object \n",
      " 15  PaperlessBilling  7032 non-null   object \n",
      " 16  PaymentMethod     7032 non-null   object \n",
      " 17  MonthlyCharges    7032 non-null   float64\n",
      " 18  TotalCharges      7032 non-null   float64\n",
      " 19  Churn             7032 non-null   object \n",
      "dtypes: float64(2), int64(2), object(16)\n",
      "memory usage: 1.1+ MB\n"
     ]
    }
   ],
   "source": [
    "df.info()"
   ]
  },
  {
   "cell_type": "markdown",
   "id": "4690235d",
   "metadata": {},
   "source": [
    "#  Binary to Numarical conversion "
   ]
  },
  {
   "cell_type": "code",
   "execution_count": 3,
   "id": "ffc13299",
   "metadata": {},
   "outputs": [],
   "source": [
    "bin_cols = ['gender','Partner','Dependents','PhoneService','PaperlessBilling','Churn']\n",
    "for col in bin_cols: df[col] = df[col].map({'Yes': 1, 'No': 0, 'Female': 1, 'Male': 0})\n",
    "special_cols = ['MultipleLines','OnlineSecurity','OnlineBackup','DeviceProtection','TechSupport','StreamingTV','StreamingMovies']\n",
    "for col in special_cols: df[col] = df[col].map({'Yes': 1, 'No': 0, 'No internet service': 0, 'No phone service': 0})\n",
    "df = pd.get_dummies(df, drop_first=True)"
   ]
  },
  {
   "cell_type": "markdown",
   "id": "fac9be35",
   "metadata": {},
   "source": [
    "# Encode binary categorical columns"
   ]
  },
  {
   "cell_type": "code",
   "execution_count": null,
   "id": "b6fc57e2",
   "metadata": {},
   "outputs": [],
   "source": [
    "X, y = df.drop('Churn', axis=1), df['Churn']\n",
    "X_train, X_test, y_train, y_test = train_test_split(X, y, test_size=0.3, stratify=y, random_state=42)\n",
    "cv = StratifiedKFold(n_splits=5, shuffle=True, random_state=42)"
   ]
  },
  {
   "cell_type": "markdown",
   "id": "325d1d97",
   "metadata": {},
   "source": [
    "# Decision Tree with GridSearch"
   ]
  },
  {
   "cell_type": "code",
   "execution_count": 5,
   "id": "db12fc5e",
   "metadata": {},
   "outputs": [],
   "source": [
    "dt_grid = GridSearchCV(DecisionTreeClassifier(random_state=42), {\n",
    "    'max_depth': [3, 5, 10, None], 'min_samples_split': [2, 5, 10]\n",
    "}, cv=cv, scoring='accuracy', n_jobs=-1)\n",
    "dt_grid.fit(X_train, y_train)\n",
    "dt_preds = dt_grid.best_estimator_.predict(X_test)"
   ]
  },
  {
   "cell_type": "markdown",
   "id": "02d30090",
   "metadata": {},
   "source": [
    "# Random Forest with GridSearch"
   ]
  },
  {
   "cell_type": "code",
   "execution_count": 6,
   "id": "495564e0",
   "metadata": {},
   "outputs": [],
   "source": [
    "rf_grid = GridSearchCV(RandomForestClassifier(random_state=42), {\n",
    "    'n_estimators': [50, 100, 150], 'max_depth': [5, 10, None], 'min_samples_split': [2, 5, 10]\n",
    "}, cv=cv, scoring='accuracy', n_jobs=-1)\n",
    "rf_grid.fit(X_train, y_train)\n",
    "rf_preds = rf_grid.best_estimator_.predict(X_test)"
   ]
  },
  {
   "cell_type": "markdown",
   "id": "fc646114",
   "metadata": {},
   "source": [
    "# Metrics function"
   ]
  },
  {
   "cell_type": "code",
   "execution_count": 7,
   "id": "9a951bb1",
   "metadata": {},
   "outputs": [],
   "source": [
    "def print_metrics(name, y_true, y_pred):\n",
    "    print(f\"\\n{name} Metrics:\\nAccuracy: {accuracy_score(y_true, y_pred):.4f} | Precision: {precision_score(y_true, y_pred):.4f} | Recall: {recall_score(y_true, y_pred):.4f} | F1: {f1_score(y_true, y_pred):.4f}\")\n",
    "    print(\"Report:\\n\", classification_report(y_true, y_pred))"
   ]
  },
  {
   "cell_type": "code",
   "execution_count": 8,
   "id": "18a2f51b",
   "metadata": {},
   "outputs": [
    {
     "name": "stdout",
     "output_type": "stream",
     "text": [
      "Best Decision Tree: {'max_depth': 5, 'min_samples_split': 10}\n",
      "Best Random Forest: {'max_depth': 10, 'min_samples_split': 2, 'n_estimators': 100}\n",
      "\n",
      "Decision Tree Metrics:\n",
      "Accuracy: 0.7730 | Precision: 0.5737 | Recall: 0.5686 | F1: 0.5712\n",
      "Report:\n",
      "               precision    recall  f1-score   support\n",
      "\n",
      "           0       0.84      0.85      0.85      1549\n",
      "           1       0.57      0.57      0.57       561\n",
      "\n",
      "    accuracy                           0.77      2110\n",
      "   macro avg       0.71      0.71      0.71      2110\n",
      "weighted avg       0.77      0.77      0.77      2110\n",
      "\n",
      "\n",
      "Random Forest Metrics:\n",
      "Accuracy: 0.7910 | Precision: 0.6463 | Recall: 0.4724 | F1: 0.5458\n",
      "Report:\n",
      "               precision    recall  f1-score   support\n",
      "\n",
      "           0       0.83      0.91      0.86      1549\n",
      "           1       0.65      0.47      0.55       561\n",
      "\n",
      "    accuracy                           0.79      2110\n",
      "   macro avg       0.74      0.69      0.71      2110\n",
      "weighted avg       0.78      0.79      0.78      2110\n",
      "\n"
     ]
    }
   ],
   "source": [
    "print(\"Best Decision Tree:\", dt_grid.best_params_)\n",
    "print(\"Best Random Forest:\", rf_grid.best_params_)\n",
    "print_metrics(\"Decision Tree\", y_test, dt_preds)\n",
    "print_metrics(\"Random Forest\", y_test, rf_preds)"
   ]
  },
  {
   "cell_type": "markdown",
   "id": "18bb1fa2",
   "metadata": {},
   "source": [
    "# Visualize Confusion Matrices"
   ]
  },
  {
   "cell_type": "code",
   "execution_count": 9,
   "id": "44bf4060",
   "metadata": {},
   "outputs": [
    {
     "data": {
      "image/png": "[encoded data removed]",
      "text/plain": [
       "<Figure size 1200x500 with 4 Axes>"
      ]
     },
     "metadata": {},
     "output_type": "display_data"
    }
   ],
   "source": [
    "fig, ax = plt.subplots(1, 2, figsize=(12, 5))\n",
    "sns.heatmap(confusion_matrix(y_test, dt_preds), annot=True, fmt='d', cmap='Blues', ax=ax[0])\n",
    "ax[0].set_title('Decision Tree'), ax[0].set_xlabel(\"Predicted\"), ax[0].set_ylabel(\"Actual\")\n",
    "\n",
    "sns.heatmap(confusion_matrix(y_test, rf_preds), annot=True, fmt='d', cmap='Greens', ax=ax[1])\n",
    "ax[1].set_title('Random Forest'), ax[1].set_xlabel(\"Predicted\"), ax[1].set_ylabel(\"Actual\")\n",
    "plt.tight_layout(); plt.show()"
   ]
  }
 ],
 "metadata": {
  "kernelspec": {
   "display_name": "Python 3",
   "language": "python",
   "name": "python3"
  },
  "language_info": {
   "codemirror_mode": {
    "name": "ipython",
    "version": 3
   },
   "file_extension": ".py",
   "mimetype": "text/x-python",
   "name": "python",
   "nbconvert_exporter": "python",
   "pygments_lexer": "ipython3",
   "version": "3.13.5"
  }
 },
 "nbformat": 4,
 "nbformat_minor": 5
}
